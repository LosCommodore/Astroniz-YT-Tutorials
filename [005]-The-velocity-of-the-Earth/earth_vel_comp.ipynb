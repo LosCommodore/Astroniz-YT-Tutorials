{
 "cells": [
  {
   "cell_type": "code",
   "execution_count": 5,
   "source": [
    "# Import the SPICE module\n",
    "import spiceypy\n",
    "\n",
    "# Import datetime and get the current time stamp\n",
    "import datetime\n",
    "\n",
    "# get today's date\n",
    "date_today = datetime.datetime.today()\n",
    "\n",
    "# convert the datetime to a string, replacing the time with midnight\n",
    "date_today = date_today.strftime('%Y-%m-%dT00:00:00')\n",
    "\n",
    "# Load the spice kernels for leapseconds and for the planets\n",
    "spiceypy.furnsh('../kernels/lsk/naif0012.tls')\n",
    "spiceypy.furnsh('../kernels/spk/de432s.bsp')\n",
    "\n",
    "# Compute the Ephemeris Time\n",
    "et_today_midnight = spiceypy.utc2et(date_today)\n",
    "\n",
    "# Compute the state vector of the Earth w.r.t. the Sun\n",
    "earth_state_wrt_sun, earth_sun_light_time = spiceypy.spkgeo(targ=399,\n",
    "                                                            et=et_today_midnight,\n",
    "                                                            ref='ECLIPJ2000',\n",
    "                                                            obs=10)"
   ],
   "outputs": [],
   "metadata": {}
  },
  {
   "cell_type": "code",
   "execution_count": 6,
   "source": [
    "# The state vector is 6 dimensional: x,y,z in km and the corresponding velocities in km/s\n",
    "print(f'State vector of the Earth w.r.t. the Sun for {date_today} (midnight):\\n'\n",
    "      + f'{earth_state_wrt_sun}')"
   ],
   "outputs": [
    {
     "output_type": "stream",
     "name": "stdout",
     "text": [
      "State vector of the Earth w.r.t. the Sun for 2021-10-06T00:00:00 (midnight):\n",
      "[ 1.45937499e+08  3.27940122e+07 -2.45570856e+03 -7.01712100e+00\n",
      "  2.89650470e+01 -6.82506555e-04]\n"
     ]
    }
   ],
   "metadata": {}
  },
  {
   "cell_type": "code",
   "execution_count": 7,
   "source": [
    "import numpy as np\n",
    "\n",
    "# Convert list to numpy array\n",
    "earth_state_wrt_sun = np.array(earth_state_wrt_sun)\n",
    "\n",
    "# Compute the distance\n",
    "earth_sun_distance = np.linalg.norm(earth_state_wrt_sun[:3])\n",
    "\n",
    "# First, we compute the actual orbital speed of the Earth around the Sun\n",
    "earth_orb_speed_wrt_sun = np.linalg.norm(earth_state_wrt_sun[3:])\n",
    "\n",
    "# It's around 30 km/s\n",
    "print(f'Current orbital speed of the Earth around the Sun in km/s: {earth_orb_speed_wrt_sun}')"
   ],
   "outputs": [
    {
     "output_type": "stream",
     "name": "stdout",
     "text": [
      "Current orbital speed of the Earth around the Sun in km/s: 29.80291819056653\n"
     ]
    }
   ],
   "metadata": {}
  },
  {
   "cell_type": "code",
   "execution_count": 8,
   "source": [
    "# Now let's compute the theoretical expectation. First, we load a pck file that contains\n",
    "# miscellanoeus information, like the G*M values for different objects\n",
    "\n",
    "# First, load the kernel\n",
    "spiceypy.furnsh('../kernels/pck/gm_de431.tpc')\n",
    "_, GM_SUN = spiceypy.bodvcd(bodyid=10, item='GM', maxn=1)\n",
    "\n",
    "# Now compute the orbital speed\n",
    "v_orb_func = lambda gm, r: np.sqrt(gm/r)\n",
    "earth_orb_speed_wrt_sun_theory = v_orb_func(GM_SUN[0], earth_sun_distance)\n",
    "\n",
    "# Print the result\n",
    "print(f'Theoretical orbital speed of the Earth around the Sun in km/s: '\n",
    "      + f'{earth_orb_speed_wrt_sun_theory}')"
   ],
   "outputs": [
    {
     "output_type": "stream",
     "name": "stdout",
     "text": [
      "Theoretical orbital speed of the Earth around the Sun in km/s: 29.786795676472426\n"
     ]
    }
   ],
   "metadata": {}
  },
  {
   "cell_type": "code",
   "execution_count": 9,
   "source": [
    "# A second check:\n",
    "# The angular difference between the autumn equinox and today's position vector of the Earth\n",
    "# (in this tutorial October) should be in degrees the number of days passed the 22th September.\n",
    "# Again please note: we use the \"today\" function to determine the Earth's state vector.\n",
    "# Now the \"autumn vector\" is simpley (1, 0, 0) in ECLIPJ2000 and we use this as a quick and simple\n",
    "# rough estimation / computation\n",
    "\n",
    "# Position vector\n",
    "earth_position_wrt_sun = earth_state_wrt_sun[:3]\n",
    "\n",
    "# Normalize it\n",
    "earth_position_wrt_sun_normed = earth_position_wrt_sun / earth_sun_distance\n",
    "\n",
    "# Define the \"autumn vector\" of the Earth\n",
    "earth_position_wrt_sun_normed_autumn = np.array([1.0, 0.0, 0.0])"
   ],
   "outputs": [],
   "metadata": {}
  },
  {
   "cell_type": "code",
   "execution_count": 10,
   "source": [
    "ang_dist_deg = np.degrees(np.arccos(np.dot(earth_position_wrt_sun_normed,\n",
    "                                           earth_position_wrt_sun_normed_autumn)))\n",
    "print(f\"Angular distance between autumn and today's position in degrees {date_today}: \"\n",
    "      + f\"{ang_dist_deg}\")"
   ],
   "outputs": [
    {
     "output_type": "stream",
     "name": "stdout",
     "text": [
      "Angular distance between autumn and today's position in degrees 2021-10-06T00:00:00: 12.664715673560407\n"
     ]
    }
   ],
   "metadata": {}
  }
 ],
 "metadata": {
  "interpreter": {
   "hash": "4cd7ab41f5fca4b9b44701077e38c5ffd31fe66a6cab21e0214b68d958d0e462"
  },
  "kernelspec": {
   "display_name": "Python 3 (ipykernel)",
   "language": "python",
   "name": "python3"
  },
  "language_info": {
   "name": "python",
   "version": "3.9.7",
   "mimetype": "text/x-python",
   "codemirror_mode": {
    "name": "ipython",
    "version": 3
   },
   "pygments_lexer": "ipython3",
   "nbconvert_exporter": "python",
   "file_extension": ".py"
  }
 },
 "nbformat": 4,
 "nbformat_minor": 4
}