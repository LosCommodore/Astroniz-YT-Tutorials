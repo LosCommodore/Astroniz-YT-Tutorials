{
 "cells": [
  {
   "cell_type": "code",
   "execution_count": 21,
   "metadata": {},
   "outputs": [],
   "source": [
    "# Import the standard modules\n",
    "import sqlite3\n",
    "import spiceypy\n",
    "\n",
    "# Import the installed modules\n",
    "import pandas as pd\n",
    "import numpy as np\n",
    "\n",
    "# Import matplotlib for plotting\n",
    "from matplotlib import pyplot as plt\n",
    "\n",
    "# Import scipy for the Kernel Density Estimator functionality\n",
    "from scipy import stats"
   ]
  },
  {
   "cell_type": "code",
   "execution_count": 22,
   "metadata": {},
   "outputs": [],
   "source": [
    "# Connect to the comet database. This database has been created in tutorial\n",
    "# part 7, however, due to its small size the database is uploaded on GitHub\n",
    "con = sqlite3.connect('../databases/comets/mpc_comets.db')\n",
    "\n",
    "# Set a cursor\n",
    "cur = con.cursor()\n",
    "\n",
    "# Create a pandas dataframe that contains the name of the comet (needed later),\n",
    "# the semi-major axis, inclination and eccentricity\n",
    "# for P type ...\n",
    "p_type_df = pd.read_sql('SELECT NAME, SEMI_MAJOR_AXIS_AU, INCLINATION_DEG, ' \\\n",
    "                        'ECCENTRICITY FROM comets_main WHERE ORBIT_TYPE=\"P\"', \\\n",
    "                        con)\n",
    "\n",
    "# ... and C type comets. For this type: set the eccentricity smaller 1 (bound\n",
    "# orbits)\n",
    "c_type_df = pd.read_sql('SELECT NAME, SEMI_MAJOR_AXIS_AU, INCLINATION_DEG, ' \\\n",
    "                        'ECCENTRICITY FROM comets_main WHERE ORBIT_TYPE=\"C\" ' \\\n",
    "                        'AND ECCENTRICITY<1', con)"
   ]
  },
  {
   "cell_type": "code",
   "execution_count": 23,
   "metadata": {},
   "outputs": [],
   "source": [
    "# The Tisserand parameter will help us to distinguish between Jupiter Family\n",
    "# Comets (JFCs) and Non-JFCss more easily. For this parameter (next block) we\n",
    "# need the semi-major axis of Jupiter\n",
    "\n",
    "# Import a kernel meta file\n",
    "spiceypy.furnsh('kernel_meta.txt')\n",
    "\n",
    "# Set any Ephemeris time (ET)\n",
    "sample_et = spiceypy.utc2et('2000-001T00:00:00')\n",
    "\n",
    "# Compute the state vector of Jupiter in ECLIPJ2000 (Jupiter (599) is not\n",
    "# available in the kernel, we use the barycentre (5))\n",
    "state_vec_jupiter, _ = spiceypy.spkgeo(targ=5, \\\n",
    "                                       et=sample_et, \\\n",
    "                                       ref='ECLIPJ2000', \\\n",
    "                                       obs=10)\n",
    "\n",
    "# Get the G*M value of the Sun\n",
    "_, gm_sun_pre = spiceypy.bodvcd(bodyid=10, item='GM', maxn=1)\n",
    "gm_sun = gm_sun_pre[0]\n",
    "\n",
    "# Compute the orbital elements of Jupiter\n",
    "orb_elem_jupiter = spiceypy.oscltx(state_vec_jupiter, sample_et, gm_sun)\n",
    "\n",
    "# Get the semi-major axis value\n",
    "a_jupiter_km = orb_elem_jupiter[-2]\n",
    "\n",
    "# Convert the value from km to AU\n",
    "a_jupiter_au = spiceypy.convrt(a_jupiter_km, 'km', 'AU')"
   ]
  },
  {
   "cell_type": "code",
   "execution_count": 24,
   "metadata": {},
   "outputs": [],
   "source": [
    "# Define a lambda function for the Tisserand parameter, a, i and e are the\n",
    "# input parameters semi-major axis, inclination and eccentricity, respectively\n",
    "tisr_jup = lambda a, i, e: (a_jupiter_au / a) + 2 * np.cos(i) \\\n",
    "                           * np.sqrt((a / a_jupiter_au) * (1 - (e**2.0)))\n",
    "\n",
    "# Create a new dataframe columns that contains the Tisserand parameter\n",
    "p_type_df.loc[:, 'TISSERAND_JUP'] = \\\n",
    "    p_type_df.apply(lambda x: (tisr_jup(a=x['SEMI_MAJOR_AXIS_AU'], \\\n",
    "                                        i=np.radians(x['INCLINATION_DEG']), \\\n",
    "                                        e=x['ECCENTRICITY'])), axis=1)\n",
    "\n",
    "c_type_df.loc[:, 'TISSERAND_JUP'] = \\\n",
    "    c_type_df.apply(lambda x: (tisr_jup(a=x['SEMI_MAJOR_AXIS_AU'], \\\n",
    "                               i=np.radians(x['INCLINATION_DEG']), \\\n",
    "                               e=x['ECCENTRICITY'])), axis=1)"
   ]
  },
  {
   "cell_type": "code",
   "execution_count": 25,
   "metadata": {},
   "outputs": [
    {
     "data": {
      "text/plain": [
       "count    661.000000\n",
       "mean       2.681711\n",
       "std        0.530906\n",
       "min       -0.650876\n",
       "25%        2.616386\n",
       "50%        2.806969\n",
       "75%        2.934888\n",
       "max        3.663150\n",
       "Name: TISSERAND_JUP, dtype: float64"
      ]
     },
     "execution_count": 25,
     "metadata": {},
     "output_type": "execute_result"
    }
   ],
   "source": [
    "# Print some descriptive statistics of the P type comets\n",
    "p_type_df[\"TISSERAND_JUP\"].describe()"
   ]
  },
  {
   "cell_type": "code",
   "execution_count": 26,
   "metadata": {},
   "outputs": [
    {
     "name": "stdout",
     "output_type": "stream",
     "text": [
      "Percentage of P type comets with a Tisserand parameter between 2 and 3: 84.0%\n"
     ]
    }
   ],
   "source": [
    "# Compute the percentage of Jupiter-Family Comets (JFCs) based on P types\n",
    "perc_p_type_jfcs = len(p_type_df.loc[(p_type_df[\"TISSERAND_JUP\"] > 2) \\\n",
    "                                      & (p_type_df[\"TISSERAND_JUP\"] < 3)]) \\\n",
    "                    / len(p_type_df.index) * 100\n",
    "perc_p_type_jfcs = round(perc_p_type_jfcs, 0)\n",
    "\n",
    "# Print how many P comets have a Tisserand parameter between 2 and 3:\n",
    "print('Percentage of P type comets with a Tisserand parameter between ' \\\n",
    "      f'2 and 3: {perc_p_type_jfcs}%')"
   ]
  },
  {
   "cell_type": "code",
   "execution_count": 27,
   "metadata": {},
   "outputs": [
    {
     "data": {
      "text/plain": [
       "count    167.000000\n",
       "mean       0.332663\n",
       "std        1.484753\n",
       "min       -3.474588\n",
       "25%       -0.734433\n",
       "50%        0.384667\n",
       "75%        1.442249\n",
       "max        3.400525\n",
       "Name: TISSERAND_JUP, dtype: float64"
      ]
     },
     "execution_count": 27,
     "metadata": {},
     "output_type": "execute_result"
    }
   ],
   "source": [
    "# Print some descriptive statistics of the C type comets\n",
    "c_type_df[\"TISSERAND_JUP\"].describe()"
   ]
  },
  {
   "cell_type": "code",
   "execution_count": 28,
   "metadata": {},
   "outputs": [],
   "source": [
    "# We define a function to add a new column in an already existing database\n",
    "# table. This code snippet may be helpful in the future\n",
    "def add_col2tab(con_db, cur_db, tab_name, col_name, col_type):\n",
    "    \"\"\"\n",
    "    This function adds a new column to an already existing SQLite table.\n",
    "    Setting a new or editing an existing key (primary or foreign) is not\n",
    "    possible.\n",
    "\n",
    "    Parameters\n",
    "    ----------\n",
    "    con_db : sqlite3.Connection\n",
    "        Connection object to the SQLite database.\n",
    "    cur_db : sqlite3.Cursor\n",
    "        Connection corresponding cursor.\n",
    "    tab_name : str\n",
    "        Table name.\n",
    "    col_name : str\n",
    "        New column name that shall be added.\n",
    "    col_type : str\n",
    "        New column name corresponding SQLite column type.\n",
    "\n",
    "    Returns\n",
    "    -------\n",
    "    None.\n",
    "\n",
    "    \"\"\"\n",
    "\n",
    "    # Iterate through all existing column names of the database table using\n",
    "    # the PRAGMA table_info command\n",
    "    for row in cur_db.execute(f'PRAGMA table_info({tab_name})'):\n",
    "\n",
    "        # If the column exists: exit the function\n",
    "        if row[1] == col_name:\n",
    "            break\n",
    "\n",
    "    # If the column is not existing yet, add the new column\n",
    "    else:\n",
    "        cur_db.execute(f'ALTER TABLE {tab_name} ' \\\n",
    "                       f'ADD COLUMN {col_name} {col_type}')\n",
    "        con_db.commit()\n",
    "\n",
    "# Add a new column in the comets_main table for the Tisserand parameters\n",
    "add_col2tab(con_db=con, \\\n",
    "            cur_db=cur, \\\n",
    "            tab_name='comets_main', \\\n",
    "            col_name='TISSERAND_JUP', \\\n",
    "            col_type='REAL')"
   ]
  },
  {
   "cell_type": "code",
   "execution_count": 29,
   "metadata": {},
   "outputs": [],
   "source": [
    "# Add the Tisserand parameter results to the database\n",
    "cur.executemany('UPDATE comets_main SET TISSERAND_JUP=? WHERE NAME=?', \\\n",
    "                p_type_df[['TISSERAND_JUP', 'NAME']].values)\n",
    "con.commit()\n",
    "\n",
    "cur.executemany('UPDATE comets_main SET TISSERAND_JUP=? WHERE NAME=?', \\\n",
    "                c_type_df[['TISSERAND_JUP', 'NAME']].values)\n",
    "con.commit()"
   ]
  },
  {
   "cell_type": "code",
   "execution_count": 30,
   "metadata": {},
   "outputs": [],
   "source": [
    "# Compute the KDE distribution for the Tisserand values, ranging from -1 to\n",
    "# 5\n",
    "tisserand_range = np.linspace(0, 5, 1000)\n",
    "\n",
    "# Kernel and distribution computation for the P type comets\n",
    "p_type_tisr_kernel = stats.gaussian_kde(p_type_df['TISSERAND_JUP'])\n",
    "p_type_tisr_distr = p_type_tisr_kernel(tisserand_range)\n",
    "\n",
    "# Kernel and distribution computation for the C type comets\n",
    "c_type_tisr_kernel = stats.gaussian_kde(c_type_df['TISSERAND_JUP'])\n",
    "c_type_tisr_distr = c_type_tisr_kernel(tisserand_range)"
   ]
  },
  {
   "cell_type": "code",
   "execution_count": 31,
   "metadata": {},
   "outputs": [
    {
     "data": {
      "image/png": "[encoded data removed]",
      "text/plain": [
       "<Figure size 864x576 with 1 Axes>"
      ]
     },
     "metadata": {},
     "output_type": "display_data"
    }
   ],
   "source": [
    "# Square-root choice for the histograms number of bins\n",
    "nr_of_bins = lambda data_array: int(np.floor(np.sqrt(len(data_array))))\n",
    "\n",
    "# Let's set a dark background\n",
    "plt.style.use('dark_background')\n",
    "\n",
    "# Set a default font size for better readability\n",
    "plt.rcParams.update({'font.size': 14})\n",
    "\n",
    "# Create a figure and axis\n",
    "fig, ax = plt.subplots(figsize=(12, 8))\n",
    "\n",
    "# Histogram of the P and C type comets' Tisserand parameter.\n",
    "ax.hist(p_type_df['TISSERAND_JUP'], \\\n",
    "        bins=nr_of_bins(p_type_df['TISSERAND_JUP']), \\\n",
    "        density=True, color='tab:orange', alpha=0.5, label='P Type')\n",
    "\n",
    "ax.hist(c_type_df['TISSERAND_JUP'], \\\n",
    "        bins=nr_of_bins(c_type_df['TISSERAND_JUP']), \\\n",
    "        density=True, color='tab:blue', alpha=0.5, label='C Type')\n",
    "\n",
    "# Plot the KDE of the P type comets\n",
    "ax.plot(tisserand_range, p_type_tisr_distr, color='tab:orange', alpha=1, linestyle='solid')\n",
    "\n",
    "# Plot the KDE of the C type comets\n",
    "ax.plot(tisserand_range, c_type_tisr_distr, color='tab:blue', alpha=1, linestyle='solid')\n",
    "\n",
    "# Set an x axis limits\n",
    "ax.set_xlim(0, 5)\n",
    "\n",
    "# Add a grid for better readability\n",
    "ax.grid(axis='both', linestyle='dashed', alpha=0.2)\n",
    "\n",
    "# Set an x and y label\n",
    "ax.set_xlabel('Tisserand Parameter w.r.t. Jupiter')\n",
    "ax.set_ylabel('Normalised Distribution')\n",
    "\n",
    "# Re-define the opacity (alpha value) of the markers / lines in the\n",
    "# legend for better visibility\n",
    "leg = ax.legend(fancybox=True, loc='upper right', framealpha=1)\n",
    "for lh in leg.legendHandles:\n",
    "    lh.set_alpha(1)\n",
    "\n",
    "# Save the figure\n",
    "plt.savefig('comets_kde_tisserand_jup.png', dpi=300)"
   ]
  }
 ],
 "metadata": {
  "kernelspec": {
   "display_name": "Python 3",
   "language": "python",
   "name": "python3"
  },
  "language_info": {
   "codemirror_mode": {
    "name": "ipython",
    "version": 3
   },
   "file_extension": ".py",
   "mimetype": "text/x-python",
   "name": "python",
   "nbconvert_exporter": "python",
   "pygments_lexer": "ipython3",
   "version": "3.9.9"
  }
 },
 "nbformat": 4,
 "nbformat_minor": 4
}
