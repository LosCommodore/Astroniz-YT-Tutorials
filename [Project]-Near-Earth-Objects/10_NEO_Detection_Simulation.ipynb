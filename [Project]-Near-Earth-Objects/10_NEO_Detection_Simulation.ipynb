{
 "cells": [
  {
   "cell_type": "code",
   "execution_count": 8,
   "id": "a996e421-5810-47b0-9e52-dc3600cbef17",
   "metadata": {},
   "outputs": [],
   "source": [
    "# Standard libraries\n",
    "import datetime\n",
    "import math\n",
    "import pathlib\n",
    "import sqlite3\n",
    "import sys\n",
    "\n",
    "# Installed libraries\n",
    "from matplotlib import pyplot as plt\n",
    "import numpy as np\n",
    "import pandas as pd\n",
    "import spiceypy\n",
    "import tqdm\n",
    "\n",
    "# Append to root directory of this repository\n",
    "sys.path.append(\"../\")\n",
    "\n",
    "# Auxiliary module that contains the apparent magnitude\n",
    "from auxiliary import photometry"
   ]
  },
  {
   "cell_type": "code",
   "execution_count": null,
   "id": "b085c42c-e56f-40e8-bbdd-c37d6fff766f",
   "metadata": {},
   "outputs": [],
   "source": []
  },
  {
   "cell_type": "code",
   "execution_count": 2,
   "id": "da1a0b30-5186-4362-98f8-174fbc6c750e",
   "metadata": {},
   "outputs": [],
   "source": [
    "# Accessing the NEO database\n",
    "database_dir = pathlib.Path(\"../databases/neos/\")\n",
    "database_file = pathlib.Path(\"neodys.db\")\n",
    "database_filepath = database_dir / database_file\n",
    "\n",
    "# Establish a connection to the database and set a cursor\n",
    "neodys_db_con = sqlite3.connect(database_filepath)\n",
    "neodys_db_cur = neodys_db_con.cursor()"
   ]
  },
  {
   "cell_type": "code",
   "execution_count": 3,
   "id": "31830f51-b545-40b4-83d0-12d66744c502",
   "metadata": {},
   "outputs": [],
   "source": [
    "# Get all information from the DB. Since the DB is rather small, this won't cause any issues!\n",
    "neo_df = pd.read_sql(\"SELECT * FROM main\", neodys_db_con)\n",
    "\n",
    "# Close the database.\n",
    "neodys_db_con.close()"
   ]
  },
  {
   "cell_type": "code",
   "execution_count": 4,
   "id": "3c20f2c5-f917-4227-809a-3055b8691497",
   "metadata": {},
   "outputs": [],
   "source": [
    "# Load SPICE kernels\n",
    "spiceypy.furnsh(\"../kernels/spk/de432s.bsp\")\n",
    "spiceypy.furnsh(\"../kernels/lsk/naif0012.tls\")\n",
    "spiceypy.furnsh(\"../kernels/pck/gm_de431.tpc\")\n",
    "\n",
    "# Get the G*M value of the Sun\n",
    "_, gm_sun_pre = spiceypy.bodvcd(bodyid=10, item='GM', maxn=1)\n",
    "gm_sun = gm_sun_pre[0]"
   ]
  },
  {
   "cell_type": "code",
   "execution_count": 5,
   "id": "a7d9b25f-e36a-4d1c-92f9-c7fa60700360",
   "metadata": {},
   "outputs": [],
   "source": [
    "# For our computations we need to convert some values from AU to km and from deg to rad\n",
    "neo_df.loc[:, \"Perihel_km\"] = neo_df[\"Perihel_AU\"].apply(lambda x: spiceypy.convrt(x, \"AU\", \"km\"))\n",
    "neo_df.loc[:, \"Incl_rad\"] = neo_df[\"Incl_deg\"].apply(lambda x: math.radians(x))\n",
    "neo_df.loc[:, \"LongAscNode_rad\"] = neo_df[\"LongAscNode_deg\"].apply(lambda x: math.radians(x))\n",
    "neo_df.loc[:, \"ArgP_rad\"] = neo_df[\"ArgP_deg\"].apply(lambda x: math.radians(x))\n",
    "neo_df.loc[:, \"MeanAnom_rad\"] = neo_df[\"MeanAnom_deg\"].apply(lambda x: math.radians(x))\n",
    "neo_df.loc[:, \"Epoch_JD\"] = neo_df[\"Epoch_MJD\"].apply(lambda x: x + 2400000.5)\n",
    "neo_df.loc[:, \"Epoch_et\"] = neo_df[\"Epoch_JD\"].apply(lambda x: spiceypy.utc2et(str(x) + \" JD\"))"
   ]
  },
  {
   "cell_type": "code",
   "execution_count": 6,
   "id": "422cc2e1-afd3-4a60-9ea8-88d88ed8ac67",
   "metadata": {},
   "outputs": [],
   "source": [
    "init_time_utc = \"2022-01-01T00:00:00\"\n",
    "init_time_et = spiceypy.utc2et(init_time_utc)\n",
    "\n",
    "opp_range = 45.0\n",
    "\n",
    "detected_neo_df = pd.DataFrame([])"
   ]
  },
  {
   "cell_type": "code",
   "execution_count": 10,
   "id": "d678d6b0-a29b-46ff-8d68-db015fb3022b",
   "metadata": {},
   "outputs": [
    {
     "name": "stderr",
     "output_type": "stream",
     "text": [
      "  0%|                                                          | 7/87600 [00:27<97:13:32,  4.00s/it]\n"
     ]
    },
    {
     "ename": "KeyboardInterrupt",
     "evalue": "",
     "output_type": "error",
     "traceback": [
      "\u001b[0;31m---------------------------------------------------------------------------\u001b[0m",
      "\u001b[0;31mKeyboardInterrupt\u001b[0m                         Traceback (most recent call last)",
      "\u001b[0;32m/var/folders/gc/021rhjrn20v7m9sjnfk08_fc0000gp/T/ipykernel_7176/1903784179.py\u001b[0m in \u001b[0;36m<module>\u001b[0;34m\u001b[0m\n\u001b[1;32m     44\u001b[0m         \u001b[0;31m# Compute the apparent magnitude of each NEO for today!\u001b[0m\u001b[0;34m\u001b[0m\u001b[0;34m\u001b[0m\u001b[0m\n\u001b[1;32m     45\u001b[0m         \u001b[0mneo_df\u001b[0m\u001b[0;34m.\u001b[0m\u001b[0mloc\u001b[0m\u001b[0;34m[\u001b[0m\u001b[0;34m:\u001b[0m\u001b[0;34m,\u001b[0m \u001b[0;34m\"app_mag\"\u001b[0m\u001b[0;34m]\u001b[0m \u001b[0;34m=\u001b[0m\u001b[0;31m \u001b[0m\u001b[0;31m\\\u001b[0m\u001b[0;34m\u001b[0m\u001b[0;34m\u001b[0m\u001b[0m\n\u001b[0;32m---> 46\u001b[0;31m             neo_df.apply(lambda x: photometry.hg_app_mag(abs_mag=x[\"AbsMag_\"],\n\u001b[0m\u001b[1;32m     47\u001b[0m                                                          \u001b[0mvec_obj2obs\u001b[0m\u001b[0;34m=\u001b[0m\u001b[0mx\u001b[0m\u001b[0;34m[\u001b[0m\u001b[0;34m\"neo2earth_position_vec_AU\"\u001b[0m\u001b[0;34m]\u001b[0m\u001b[0;34m,\u001b[0m\u001b[0;34m\u001b[0m\u001b[0;34m\u001b[0m\u001b[0m\n\u001b[1;32m     48\u001b[0m                                                          \u001b[0mvec_obj2ill\u001b[0m\u001b[0;34m=\u001b[0m\u001b[0mx\u001b[0m\u001b[0;34m[\u001b[0m\u001b[0;34m\"neo2sun_position_vec_AU\"\u001b[0m\u001b[0;34m]\u001b[0m\u001b[0;34m,\u001b[0m\u001b[0;34m\u001b[0m\u001b[0;34m\u001b[0m\u001b[0m\n",
      "\u001b[0;32m~/PythonEnvs/astroniz/lib/python3.9/site-packages/pandas/core/frame.py\u001b[0m in \u001b[0;36mapply\u001b[0;34m(self, func, axis, raw, result_type, args, **kwargs)\u001b[0m\n\u001b[1;32m   8738\u001b[0m             \u001b[0mkwargs\u001b[0m\u001b[0;34m=\u001b[0m\u001b[0mkwargs\u001b[0m\u001b[0;34m,\u001b[0m\u001b[0;34m\u001b[0m\u001b[0;34m\u001b[0m\u001b[0m\n\u001b[1;32m   8739\u001b[0m         )\n\u001b[0;32m-> 8740\u001b[0;31m         \u001b[0;32mreturn\u001b[0m \u001b[0mop\u001b[0m\u001b[0;34m.\u001b[0m\u001b[0mapply\u001b[0m\u001b[0;34m(\u001b[0m\u001b[0;34m)\u001b[0m\u001b[0;34m\u001b[0m\u001b[0;34m\u001b[0m\u001b[0m\n\u001b[0m\u001b[1;32m   8741\u001b[0m \u001b[0;34m\u001b[0m\u001b[0m\n\u001b[1;32m   8742\u001b[0m     def applymap(\n",
      "\u001b[0;32m~/PythonEnvs/astroniz/lib/python3.9/site-packages/pandas/core/apply.py\u001b[0m in \u001b[0;36mapply\u001b[0;34m(self)\u001b[0m\n\u001b[1;32m    686\u001b[0m             \u001b[0;32mreturn\u001b[0m \u001b[0mself\u001b[0m\u001b[0;34m.\u001b[0m\u001b[0mapply_raw\u001b[0m\u001b[0;34m(\u001b[0m\u001b[0;34m)\u001b[0m\u001b[0;34m\u001b[0m\u001b[0;34m\u001b[0m\u001b[0m\n\u001b[1;32m    687\u001b[0m \u001b[0;34m\u001b[0m\u001b[0m\n\u001b[0;32m--> 688\u001b[0;31m         \u001b[0;32mreturn\u001b[0m \u001b[0mself\u001b[0m\u001b[0;34m.\u001b[0m\u001b[0mapply_standard\u001b[0m\u001b[0;34m(\u001b[0m\u001b[0;34m)\u001b[0m\u001b[0;34m\u001b[0m\u001b[0;34m\u001b[0m\u001b[0m\n\u001b[0m\u001b[1;32m    689\u001b[0m \u001b[0;34m\u001b[0m\u001b[0m\n\u001b[1;32m    690\u001b[0m     \u001b[0;32mdef\u001b[0m \u001b[0magg\u001b[0m\u001b[0;34m(\u001b[0m\u001b[0mself\u001b[0m\u001b[0;34m)\u001b[0m\u001b[0;34m:\u001b[0m\u001b[0;34m\u001b[0m\u001b[0;34m\u001b[0m\u001b[0m\n",
      "\u001b[0;32m~/PythonEnvs/astroniz/lib/python3.9/site-packages/pandas/core/apply.py\u001b[0m in \u001b[0;36mapply_standard\u001b[0;34m(self)\u001b[0m\n\u001b[1;32m    810\u001b[0m \u001b[0;34m\u001b[0m\u001b[0m\n\u001b[1;32m    811\u001b[0m     \u001b[0;32mdef\u001b[0m \u001b[0mapply_standard\u001b[0m\u001b[0;34m(\u001b[0m\u001b[0mself\u001b[0m\u001b[0;34m)\u001b[0m\u001b[0;34m:\u001b[0m\u001b[0;34m\u001b[0m\u001b[0;34m\u001b[0m\u001b[0m\n\u001b[0;32m--> 812\u001b[0;31m         \u001b[0mresults\u001b[0m\u001b[0;34m,\u001b[0m \u001b[0mres_index\u001b[0m \u001b[0;34m=\u001b[0m \u001b[0mself\u001b[0m\u001b[0;34m.\u001b[0m\u001b[0mapply_series_generator\u001b[0m\u001b[0;34m(\u001b[0m\u001b[0;34m)\u001b[0m\u001b[0;34m\u001b[0m\u001b[0;34m\u001b[0m\u001b[0m\n\u001b[0m\u001b[1;32m    813\u001b[0m \u001b[0;34m\u001b[0m\u001b[0m\n\u001b[1;32m    814\u001b[0m         \u001b[0;31m# wrap results\u001b[0m\u001b[0;34m\u001b[0m\u001b[0;34m\u001b[0m\u001b[0m\n",
      "\u001b[0;32m~/PythonEnvs/astroniz/lib/python3.9/site-packages/pandas/core/apply.py\u001b[0m in \u001b[0;36mapply_series_generator\u001b[0;34m(self)\u001b[0m\n\u001b[1;32m    826\u001b[0m             \u001b[0;32mfor\u001b[0m \u001b[0mi\u001b[0m\u001b[0;34m,\u001b[0m \u001b[0mv\u001b[0m \u001b[0;32min\u001b[0m \u001b[0menumerate\u001b[0m\u001b[0;34m(\u001b[0m\u001b[0mseries_gen\u001b[0m\u001b[0;34m)\u001b[0m\u001b[0;34m:\u001b[0m\u001b[0;34m\u001b[0m\u001b[0;34m\u001b[0m\u001b[0m\n\u001b[1;32m    827\u001b[0m                 \u001b[0;31m# ignore SettingWithCopy here in case the user mutates\u001b[0m\u001b[0;34m\u001b[0m\u001b[0;34m\u001b[0m\u001b[0m\n\u001b[0;32m--> 828\u001b[0;31m                 \u001b[0mresults\u001b[0m\u001b[0;34m[\u001b[0m\u001b[0mi\u001b[0m\u001b[0;34m]\u001b[0m \u001b[0;34m=\u001b[0m \u001b[0mself\u001b[0m\u001b[0;34m.\u001b[0m\u001b[0mf\u001b[0m\u001b[0;34m(\u001b[0m\u001b[0mv\u001b[0m\u001b[0;34m)\u001b[0m\u001b[0;34m\u001b[0m\u001b[0;34m\u001b[0m\u001b[0m\n\u001b[0m\u001b[1;32m    829\u001b[0m                 \u001b[0;32mif\u001b[0m \u001b[0misinstance\u001b[0m\u001b[0;34m(\u001b[0m\u001b[0mresults\u001b[0m\u001b[0;34m[\u001b[0m\u001b[0mi\u001b[0m\u001b[0;34m]\u001b[0m\u001b[0;34m,\u001b[0m \u001b[0mABCSeries\u001b[0m\u001b[0;34m)\u001b[0m\u001b[0;34m:\u001b[0m\u001b[0;34m\u001b[0m\u001b[0;34m\u001b[0m\u001b[0m\n\u001b[1;32m    830\u001b[0m                     \u001b[0;31m# If we have a view on v, we need to make a copy because\u001b[0m\u001b[0;34m\u001b[0m\u001b[0;34m\u001b[0m\u001b[0m\n",
      "\u001b[0;32m/var/folders/gc/021rhjrn20v7m9sjnfk08_fc0000gp/T/ipykernel_7176/1903784179.py\u001b[0m in \u001b[0;36m<lambda>\u001b[0;34m(x)\u001b[0m\n\u001b[1;32m     44\u001b[0m         \u001b[0;31m# Compute the apparent magnitude of each NEO for today!\u001b[0m\u001b[0;34m\u001b[0m\u001b[0;34m\u001b[0m\u001b[0m\n\u001b[1;32m     45\u001b[0m         \u001b[0mneo_df\u001b[0m\u001b[0;34m.\u001b[0m\u001b[0mloc\u001b[0m\u001b[0;34m[\u001b[0m\u001b[0;34m:\u001b[0m\u001b[0;34m,\u001b[0m \u001b[0;34m\"app_mag\"\u001b[0m\u001b[0;34m]\u001b[0m \u001b[0;34m=\u001b[0m\u001b[0;31m \u001b[0m\u001b[0;31m\\\u001b[0m\u001b[0;34m\u001b[0m\u001b[0;34m\u001b[0m\u001b[0m\n\u001b[0;32m---> 46\u001b[0;31m             neo_df.apply(lambda x: photometry.hg_app_mag(abs_mag=x[\"AbsMag_\"],\n\u001b[0m\u001b[1;32m     47\u001b[0m                                                          \u001b[0mvec_obj2obs\u001b[0m\u001b[0;34m=\u001b[0m\u001b[0mx\u001b[0m\u001b[0;34m[\u001b[0m\u001b[0;34m\"neo2earth_position_vec_AU\"\u001b[0m\u001b[0;34m]\u001b[0m\u001b[0;34m,\u001b[0m\u001b[0;34m\u001b[0m\u001b[0;34m\u001b[0m\u001b[0m\n\u001b[1;32m     48\u001b[0m                                                          \u001b[0mvec_obj2ill\u001b[0m\u001b[0;34m=\u001b[0m\u001b[0mx\u001b[0m\u001b[0;34m[\u001b[0m\u001b[0;34m\"neo2sun_position_vec_AU\"\u001b[0m\u001b[0;34m]\u001b[0m\u001b[0;34m,\u001b[0m\u001b[0;34m\u001b[0m\u001b[0;34m\u001b[0m\u001b[0m\n",
      "\u001b[0;32m~/Projects/Astroniz-YT-Tutorials/[Project]-Near-Earth-Objects/../auxiliary/photometry.py\u001b[0m in \u001b[0;36mhg_app_mag\u001b[0;34m(abs_mag, vec_obj2obs, vec_obj2ill, slope_g)\u001b[0m\n\u001b[1;32m    153\u001b[0m     \u001b[0;31m# Compute the length of the two input vectors\u001b[0m\u001b[0;34m\u001b[0m\u001b[0;34m\u001b[0m\u001b[0m\n\u001b[1;32m    154\u001b[0m     \u001b[0mvec_obj2obs_norm\u001b[0m \u001b[0;34m=\u001b[0m \u001b[0mnp\u001b[0m\u001b[0;34m.\u001b[0m\u001b[0mlinalg\u001b[0m\u001b[0;34m.\u001b[0m\u001b[0mnorm\u001b[0m\u001b[0;34m(\u001b[0m\u001b[0mvec_obj2obs\u001b[0m\u001b[0;34m)\u001b[0m\u001b[0;34m\u001b[0m\u001b[0;34m\u001b[0m\u001b[0m\n\u001b[0;32m--> 155\u001b[0;31m     \u001b[0mvec_obj2ill_norm\u001b[0m \u001b[0;34m=\u001b[0m \u001b[0mnp\u001b[0m\u001b[0;34m.\u001b[0m\u001b[0mlinalg\u001b[0m\u001b[0;34m.\u001b[0m\u001b[0mnorm\u001b[0m\u001b[0;34m(\u001b[0m\u001b[0mvec_obj2ill\u001b[0m\u001b[0;34m)\u001b[0m\u001b[0;34m\u001b[0m\u001b[0;34m\u001b[0m\u001b[0m\n\u001b[0m\u001b[1;32m    156\u001b[0m \u001b[0;34m\u001b[0m\u001b[0m\n\u001b[1;32m    157\u001b[0m     \u001b[0;31m# Compute the phase angle of the asteroid\u001b[0m\u001b[0;34m\u001b[0m\u001b[0;34m\u001b[0m\u001b[0m\n",
      "\u001b[0;32m~/PythonEnvs/astroniz/lib/python3.9/site-packages/numpy/core/overrides.py\u001b[0m in \u001b[0;36mnorm\u001b[0;34m(*args, **kwargs)\u001b[0m\n",
      "\u001b[0;32m~/PythonEnvs/astroniz/lib/python3.9/site-packages/numpy/linalg/linalg.py\u001b[0m in \u001b[0;36mnorm\u001b[0;34m(x, ord, axis, keepdims)\u001b[0m\n\u001b[1;32m   2514\u001b[0m                 \u001b[0msqnorm\u001b[0m \u001b[0;34m=\u001b[0m \u001b[0mdot\u001b[0m\u001b[0;34m(\u001b[0m\u001b[0mx\u001b[0m\u001b[0;34m.\u001b[0m\u001b[0mreal\u001b[0m\u001b[0;34m,\u001b[0m \u001b[0mx\u001b[0m\u001b[0;34m.\u001b[0m\u001b[0mreal\u001b[0m\u001b[0;34m)\u001b[0m \u001b[0;34m+\u001b[0m \u001b[0mdot\u001b[0m\u001b[0;34m(\u001b[0m\u001b[0mx\u001b[0m\u001b[0;34m.\u001b[0m\u001b[0mimag\u001b[0m\u001b[0;34m,\u001b[0m \u001b[0mx\u001b[0m\u001b[0;34m.\u001b[0m\u001b[0mimag\u001b[0m\u001b[0;34m)\u001b[0m\u001b[0;34m\u001b[0m\u001b[0;34m\u001b[0m\u001b[0m\n\u001b[1;32m   2515\u001b[0m             \u001b[0;32melse\u001b[0m\u001b[0;34m:\u001b[0m\u001b[0;34m\u001b[0m\u001b[0;34m\u001b[0m\u001b[0m\n\u001b[0;32m-> 2516\u001b[0;31m                 \u001b[0msqnorm\u001b[0m \u001b[0;34m=\u001b[0m \u001b[0mdot\u001b[0m\u001b[0;34m(\u001b[0m\u001b[0mx\u001b[0m\u001b[0;34m,\u001b[0m \u001b[0mx\u001b[0m\u001b[0;34m)\u001b[0m\u001b[0;34m\u001b[0m\u001b[0;34m\u001b[0m\u001b[0m\n\u001b[0m\u001b[1;32m   2517\u001b[0m             \u001b[0mret\u001b[0m \u001b[0;34m=\u001b[0m \u001b[0msqrt\u001b[0m\u001b[0;34m(\u001b[0m\u001b[0msqnorm\u001b[0m\u001b[0;34m)\u001b[0m\u001b[0;34m\u001b[0m\u001b[0;34m\u001b[0m\u001b[0m\n\u001b[1;32m   2518\u001b[0m             \u001b[0;32mif\u001b[0m \u001b[0mkeepdims\u001b[0m\u001b[0;34m:\u001b[0m\u001b[0;34m\u001b[0m\u001b[0;34m\u001b[0m\u001b[0m\n",
      "\u001b[0;32m~/PythonEnvs/astroniz/lib/python3.9/site-packages/numpy/core/overrides.py\u001b[0m in \u001b[0;36mdot\u001b[0;34m(*args, **kwargs)\u001b[0m\n",
      "\u001b[0;31mKeyboardInterrupt\u001b[0m: "
     ]
    }
   ],
   "source": [
    "while len(neo_df) > 0:\n",
    "    for time_step in tqdm.tqdm(np.arange(0, 8760 * 10, 1)):\n",
    "\n",
    "        init_time_et += time_step\n",
    "        \n",
    "        sun2earth_position_vec = spiceypy.spkgps(targ=399,\n",
    "                                             et=init_time_et,\n",
    "                                             ref=\"ECLIPJ2000\",\n",
    "                                             obs=10)[0]\n",
    "        earth2sun_position_vec = -1.0 * sun2earth_position_vec\n",
    "\n",
    "        neo_df.loc[:, \"et_of_detection\"] = init_time_et\n",
    "\n",
    "\n",
    "        # Compute the position vector of each NEO as seen from the Sun\n",
    "        neo_df.loc[:, \"sun2neo_position_vec\"] = \\\n",
    "            neo_df.apply(lambda x: spiceypy.conics(elts=[x[\"Perihel_km\"],\n",
    "                                                         x[\"Ecc_\"],\n",
    "                                                         x[\"Incl_rad\"],\n",
    "                                                         x[\"LongAscNode_rad\"],\n",
    "                                                         x[\"ArgP_rad\"],\n",
    "                                                         x[\"MeanAnom_rad\"],\n",
    "                                                         x[\"Epoch_et\"],\n",
    "                                                         gm_sun],\n",
    "                                                 et=init_time_et)[:3],\n",
    "                         axis=1)\n",
    "\n",
    "        # To compute the apparent magnitude we need to re-compute the positional vectors and convert it to\n",
    "        # AU\n",
    "        neo_df.loc[:, \"neo2earth_position_vec\"] = \\\n",
    "            neo_df[\"sun2neo_position_vec\"].apply(lambda x: sun2earth_position_vec - x)\n",
    "\n",
    "        neo_df.loc[:, \"neo2sun_position_vec\"] = \\\n",
    "            neo_df[\"sun2neo_position_vec\"].apply(lambda x: -1.0 * x)\n",
    "\n",
    "        neo_df.loc[:, \"neo2earth_position_vec_AU\"] = \\\n",
    "            neo_df[\"neo2earth_position_vec\"].apply(lambda x: [spiceypy.convrt(k, \"km\", \"AU\") for k in x])\n",
    "        neo_df.loc[:, \"neo2sun_position_vec_AU\"] = \\\n",
    "            neo_df[\"neo2sun_position_vec\"].apply(lambda x: [spiceypy.convrt(k, \"km\", \"AU\") for k in x])\n",
    "\n",
    "        neo_df.loc[:, \"earth2neo_position_vec_AU\"] = \\\n",
    "            neo_df[\"neo2earth_position_vec_AU\"].apply(lambda x: -1.0 * np.array(x))\n",
    "        \n",
    "        # Compute the apparent magnitude of each NEO for today!\n",
    "        neo_df.loc[:, \"app_mag\"] = \\\n",
    "            neo_df.apply(lambda x: photometry.hg_app_mag(abs_mag=x[\"AbsMag_\"],\n",
    "                                                         vec_obj2obs=x[\"neo2earth_position_vec_AU\"],\n",
    "                                                         vec_obj2ill=x[\"neo2sun_position_vec_AU\"],\n",
    "                                                         slope_g=x[\"SlopeParamG_\"]), axis=1)\n",
    "\n",
    "        neo_df.loc[:, \"ang_dist_neo2opp_deg\"] = \\\n",
    "            neo_df[\"earth2neo_position_vec_AU\"].apply(lambda x:\n",
    "                                                      np.degrees(spiceypy.vsep(x, -1.0*earth2sun_position_vec)))\n",
    "        \n",
    "        rows = neo_df.loc[(neo_df[\"app_mag\"] <= 26.0) & (neo_df[\"ang_dist_neo2opp_deg\"] <= opp_range), :]\n",
    "        detected_neo_df.append(rows, ignore_index=True)\n",
    "        neo_df.drop(rows.index, inplace=True)"
   ]
  }
 ],
 "metadata": {
  "kernelspec": {
   "display_name": "Python 3 (ipykernel)",
   "language": "python",
   "name": "python3"
  },
  "language_info": {
   "codemirror_mode": {
    "name": "ipython",
    "version": 3
   },
   "file_extension": ".py",
   "mimetype": "text/x-python",
   "name": "python",
   "nbconvert_exporter": "python",
   "pygments_lexer": "ipython3",
   "version": "3.9.7"
  }
 },
 "nbformat": 4,
 "nbformat_minor": 5
}
