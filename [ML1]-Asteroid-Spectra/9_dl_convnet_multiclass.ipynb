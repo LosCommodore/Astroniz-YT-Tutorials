{
 "cells": [
  {
   "cell_type": "markdown",
   "id": "ad3452c5",
   "metadata": {},
   "source": [
    "[![Open In Colab](https://colab.research.google.com/assets/colab-badge.svg)](https://colab.research.google.com/github/ThomasAlbin/Astroniz-YT-Tutorials/blob/main/[ML1]-Asteroid-Spectra/9_dl_convnet_multiclass.ipynb)"
   ]
  },
  {
   "cell_type": "markdown",
   "id": "f14c9d7a",
   "metadata": {},
   "source": [
    "# Step 9: Deep Learning - A Convolutional Approach\n",
    "\n",
    "This time, we are re-using our code from last time (session #8) and replace your model creation function with a convolutional neural network. Let's see who the architecture changes and whether we obtain better results than last time.\n",
    "\n",
    "Further, we are preparing our data a little bit differently."
   ]
  },
  {
   "cell_type": "code",
   "execution_count": 1,
   "id": "63474560",
   "metadata": {},
   "outputs": [],
   "source": [
    "# Import standard libraries\n",
    "import os\n",
    "\n",
    "# Import installed libraries\n",
    "import numpy as np\n",
    "import pandas as pd\n",
    "\n",
    "import sklearn\n",
    "from sklearn import preprocessing"
   ]
  },
  {
   "cell_type": "code",
   "execution_count": 2,
   "id": "af9f8681",
   "metadata": {},
   "outputs": [],
   "source": [
    "# Let's mount the Google Drive, where we store files and models (if applicable, otherwise work\n",
    "# locally)\n",
    "try:\n",
    "    from google.colab import drive\n",
    "    drive.mount('/gdrive')\n",
    "    core_path = \"/gdrive/MyDrive/Colab/asteroid_taxonomy/\"\n",
    "except ModuleNotFoundError:\n",
    "    core_path = \"\""
   ]
  },
  {
   "cell_type": "code",
   "execution_count": 3,
   "id": "71bc69f6",
   "metadata": {},
   "outputs": [],
   "source": [
    "# Load the level 2 asteroid data\n",
    "asteroids_df = pd.read_pickle(os.path.join(core_path, \"data/lvl2/\", \"asteroids.pkl\"))"
   ]
  },
  {
   "cell_type": "code",
   "execution_count": 4,
   "id": "62493261",
   "metadata": {},
   "outputs": [],
   "source": [
    "# Allocate the spectra to one array and the classes to another one\n",
    "asteroids_X = np.array([k[\"Reflectance_norm550nm\"].tolist() for k in asteroids_df[\"SpectrumDF\"]])\n",
    "asteroids_y = np.array(asteroids_df[\"Main_Group\"].to_list())"
   ]
  },
  {
   "cell_type": "code",
   "execution_count": 5,
   "id": "4e725d79-9988-4004-bf2f-aa06a0b85119",
   "metadata": {},
   "outputs": [],
   "source": [
    "asteroids_X = (asteroids_X - np.min(asteroids_X[0], axis=0)) / (np.max((asteroids_X[0] - np.min(asteroids_X[0], axis=0)), axis=0))"
   ]
  },
  {
   "cell_type": "code",
   "execution_count": 6,
   "id": "853d8443-fed3-47a2-8035-4f692eac9e6c",
   "metadata": {},
   "outputs": [],
   "source": [
    "asteroids_X = np.expand_dims(asteroids_X, axis=2)"
   ]
  },
  {
   "cell_type": "code",
   "execution_count": 7,
   "id": "66b5dfa2-89d5-4a0f-8e73-544f5fd60147",
   "metadata": {},
   "outputs": [],
   "source": [
    "# We need to encode our string-based labels to either a sparse representation (class C becomes 0,\n",
    "# S becomes 1, etc.) or to One-Hot-Encoding (e.g., C becomes [1, 0, 0, 0], S becomes [0, 1, 0, 0]\n",
    "# and so on.\n",
    "\n",
    "# Please note: a better way to create models that can be used in production, encoding shall be\n",
    "# stored e.g., in a json file. Otherwise one needs to store the encoding class (otherwise the\n",
    "# encoding - decoding information is gone!!!)\n",
    "label_encoder = preprocessing.OneHotEncoder(sparse=True)\n",
    "asteroids_oh_y = label_encoder.fit_transform(asteroids_y.reshape(-1,1)).toarray()"
   ]
  },
  {
   "cell_type": "code",
   "execution_count": 8,
   "id": "568f218c-c1e2-48a1-a845-791da8dded4d",
   "metadata": {},
   "outputs": [
    {
     "name": "stdout",
     "output_type": "stream",
     "text": [
      "[1. 0. 0. 0.]\n"
     ]
    }
   ],
   "source": [
    "# Let's take a look at a class\n",
    "print(asteroids_oh_y[0])"
   ]
  },
  {
   "cell_type": "code",
   "execution_count": 9,
   "id": "c65ba888-0dc2-400a-b3ca-6aebab07de8f",
   "metadata": {},
   "outputs": [
    {
     "name": "stdout",
     "output_type": "stream",
     "text": [
      "One-Hot-Vector [1, 0, 0, 0] corresponds to the Main Group: C\n",
      "One-Hot-Vector [0, 1, 0, 0] corresponds to the Main Group: Other\n",
      "One-Hot-Vector [0, 0, 1, 0] corresponds to the Main Group: S\n",
      "One-Hot-Vector [0, 0, 0, 1] corresponds to the Main Group: X\n"
     ]
    }
   ],
   "source": [
    "# OK how are things encoded?\n",
    "oh_init = [1, 0, 0, 0]\n",
    "for n in range(4):\n",
    "    oh_class = oh_init[-n:] + oh_init[:-n]\n",
    "    org_class = label_encoder.inverse_transform([oh_class])\n",
    "    print(f\"One-Hot-Vector {oh_class} corresponds to the Main Group: {org_class[0][0]}\")"
   ]
  },
  {
   "cell_type": "code",
   "execution_count": 10,
   "id": "39ead307-7368-4991-925d-9daba407e2f5",
   "metadata": {},
   "outputs": [],
   "source": [
    "# In this example we create a single test-training split with a ratio of 0.8 / 0.2\n",
    "from sklearn.model_selection import StratifiedShuffleSplit\n",
    "sss = StratifiedShuffleSplit(n_splits=1, test_size=0.2)\n",
    "\n",
    "# Create a simple, single train / test split\n",
    "for train_index, test_index in sss.split(asteroids_X, asteroids_y):\n",
    "    \n",
    "    X_train, X_test = asteroids_X[train_index], asteroids_X[test_index]\n",
    "    y_train, y_test = asteroids_oh_y[train_index], asteroids_oh_y[test_index]"
   ]
  },
  {
   "cell_type": "markdown",
   "id": "e6b682a0-001d-43f3-9b1f-1b0c2c1aeebd",
   "metadata": {},
   "source": [
    "## Imbalanced Datasets\n",
    "\n",
    "... are a pain to work with. But it doesn't need to be, if you are aware of some pitfalls and useful metrics. Tensorflow provides a nice blog post [here](https://www.tensorflow.org/tutorials/structured_data/imbalanced_data)"
   ]
  },
  {
   "cell_type": "code",
   "execution_count": 11,
   "id": "6e5b4b9b-03a8-4b68-a99f-dcc4aaf41019",
   "metadata": {},
   "outputs": [],
   "source": [
    "# We need to create weights for our samples. Similar like the class weights, but here, our classes\n",
    "# are one-hot encoded. Sample weights are easier to handle!\n",
    "from sklearn.utils.class_weight import compute_sample_weight\n",
    "sample_weight = compute_sample_weight(\"balanced\", y=y_train)"
   ]
  },
  {
   "cell_type": "code",
   "execution_count": 12,
   "id": "1415a951-37c8-403b-bd22-46249d3d7c96",
   "metadata": {
    "tags": []
   },
   "outputs": [
    {
     "name": "stderr",
     "output_type": "stream",
     "text": [
      "2022-03-24 22:07:47.892098: I tensorflow/core/platform/cpu_feature_guard.cc:151] This TensorFlow binary is optimized with oneAPI Deep Neural Network Library (oneDNN) to use the following CPU instructions in performance-critical operations:  AVX2 FMA\n",
      "To enable them in other operations, rebuild TensorFlow with the appropriate compiler flags.\n"
     ]
    },
    {
     "name": "stdout",
     "output_type": "stream",
     "text": [
      "Model: \"model\"\n",
      "_________________________________________________________________\n",
      " Layer (type)                Output Shape              Param #   \n",
      "=================================================================\n",
      " input_1 (InputLayer)        [(None, 49, 1)]           0         \n",
      "                                                                 \n",
      " normalization (Normalizatio  (None, 49, 1)            99        \n",
      " n)                                                              \n",
      "                                                                 \n",
      " conv1d_1 (Conv1D)           (None, 45, 64)            384       \n",
      "                                                                 \n",
      " max_pooling1d_1 (MaxPooling  (None, 22, 64)           0         \n",
      " 1D)                                                             \n",
      "                                                                 \n",
      " flatten (Flatten)           (None, 1408)              0         \n",
      "                                                                 \n",
      " dense (Dense)               (None, 15)                21135     \n",
      "                                                                 \n",
      " dense_1 (Dense)             (None, 4)                 64        \n",
      "                                                                 \n",
      "=================================================================\n",
      "Total params: 21,682\n",
      "Trainable params: 21,583\n",
      "Non-trainable params: 99\n",
      "_________________________________________________________________\n"
     ]
    }
   ],
   "source": [
    "import tensorflow.keras as keras\n",
    "\n",
    "# Get the number of inputs\n",
    "n_inputs = asteroids_X.shape[1]\n",
    "\n",
    "def create_model():\n",
    "\n",
    "    # Create now a simple Dense based network\n",
    "    input_layer = keras.Input(shape=(n_inputs, 1))\n",
    "\n",
    "    hidden_layer = normalizer(input_layer)\n",
    "    \n",
    "    hidden_conv_layer = keras.layers.Conv1D(filters=32,\n",
    "                                            activation=\"relu\",\n",
    "                                            kernel_size=3)(input_layer)\n",
    "    hidden_conv_layer = keras.layers.MaxPooling1D(pool_size=2)(hidden_conv_layer)\n",
    "    \n",
    "    hidden_conv_layer = keras.layers.Conv1D(filters=64,\n",
    "                                            activation=\"relu\",\n",
    "                                            kernel_size=5)(hidden_layer)\n",
    "    hidden_conv_layer = keras.layers.MaxPooling1D(pool_size=2)(hidden_conv_layer)\n",
    "    \n",
    "    dense_layer = keras.layers.Flatten()(hidden_conv_layer)\n",
    "    dense_layer = keras.layers.Dense(15, activation=\"relu\")(dense_layer)\n",
    "\n",
    "    output_layer = keras.layers.Dense(4, activation=\"softmax\")(dense_layer)\n",
    "\n",
    "    # Create now the model\n",
    "    model = keras.models.Model(inputs=input_layer, outputs=output_layer)\n",
    "    \n",
    "    return model\n",
    "\n",
    "model = create_model()\n",
    "\n",
    "# Compile the model. Since we have one-hot encoded classes we use the categorical crossentropy\n",
    "model.compile(optimizer='adam', loss='categorical_crossentropy')\n",
    "\n",
    "# Show the model summary\n",
    "model.summary()"
   ]
  },
  {
   "cell_type": "code",
   "execution_count": 13,
   "id": "78dac784-b0a8-49bb-814f-2d75dc304700",
   "metadata": {},
   "outputs": [],
   "source": [
    "# The training won't take long. Let's exceed the number of epochs\n",
    "end_epoch = 500\n",
    "batch_size = 32\n",
    "\n",
    "# And train! With a validation split of 25 % and the splitting prior we have:\n",
    "# Training: 60 %\n",
    "# Validation: 20 %\n",
    "# Test: 20 %\n",
    "history = model.fit(X_train, y_train,\n",
    "                    epochs=end_epoch,\n",
    "                    batch_size=batch_size,\n",
    "                    verbose=0, \n",
    "                    validation_split=0.25,\n",
    "                    sample_weight=sample_weight)"
   ]
  },
  {
   "cell_type": "code",
   "execution_count": 14,
   "id": "a0a25651-9f1d-40e8-a005-25068ba37b15",
   "metadata": {},
   "outputs": [
    {
     "data": {
      "text/plain": [
       "Text(0, 0.5, 'Loss')"
      ]
     },
     "execution_count": 14,
     "metadata": {},
     "output_type": "execute_result"
    },
    {
     "data": {
      "image/png": "[encoded data removed]",
      "text/plain": [
       "<Figure size 720x576 with 1 Axes>"
      ]
     },
     "metadata": {},
     "output_type": "display_data"
    }
   ],
   "source": [
    "# Let's plot the losses\n",
    "from matplotlib import pyplot as plt\n",
    "\n",
    "plt.style.use(\"dark_background\")\n",
    "\n",
    "plt.figure(figsize=(10, 8))\n",
    "\n",
    "plt.plot(np.arange(1,end_epoch+1,1),\n",
    "         history.history[\"loss\"], color=\"tab:blue\", label=\"Training Loss\")\n",
    "plt.plot(np.arange(1,end_epoch+1,1),\n",
    "         history.history[\"val_loss\"], color=\"tab:green\", label=\"Validation Loss\")\n",
    "\n",
    "plt.legend()\n",
    "\n",
    "plt.xlabel(\"Epoch\")\n",
    "plt.ylabel(\"Loss\")"
   ]
  },
  {
   "cell_type": "code",
   "execution_count": 15,
   "id": "e717b55e-d0a9-4fb9-9977-d6bd8a462a28",
   "metadata": {
    "tags": []
   },
   "outputs": [
    {
     "name": "stdout",
     "output_type": "stream",
     "text": [
      "Model: \"model_1\"\n",
      "_________________________________________________________________\n",
      " Layer (type)                Output Shape              Param #   \n",
      "=================================================================\n",
      " input_2 (InputLayer)        [(None, 49, 1)]           0         \n",
      "                                                                 \n",
      " normalization_1 (Normalizat  (None, 49, 1)            99        \n",
      " ion)                                                            \n",
      "                                                                 \n",
      " conv1d_3 (Conv1D)           (None, 45, 64)            384       \n",
      "                                                                 \n",
      " max_pooling1d_3 (MaxPooling  (None, 22, 64)           0         \n",
      " 1D)                                                             \n",
      "                                                                 \n",
      " flatten_1 (Flatten)         (None, 1408)              0         \n",
      "                                                                 \n",
      " dense_2 (Dense)             (None, 15)                21135     \n",
      "                                                                 \n",
      " dense_3 (Dense)             (None, 4)                 64        \n",
      "                                                                 \n",
      "=================================================================\n",
      "Total params: 21,682\n",
      "Trainable params: 21,583\n",
      "Non-trainable params: 99\n",
      "_________________________________________________________________\n"
     ]
    }
   ],
   "source": [
    "# Early Stopping for our final model\n",
    "es_callback = keras.callbacks.EarlyStopping(monitor='val_loss', patience=10)\n",
    "\n",
    "model = create_model()\n",
    "\n",
    "# Compile the model. Since we have one-hot encoded classes we use the categorical crossentropy\n",
    "model.compile(optimizer='adam', loss='categorical_crossentropy')\n",
    "\n",
    "# Show the model summary\n",
    "model.summary()\n",
    "\n",
    "# The training won't take long. Let's exceed the number of epochs\n",
    "end_epoch = 500\n",
    "batch_size = 32\n",
    "\n",
    "history = model.fit(X_train, y_train,\n",
    "                    epochs=end_epoch,\n",
    "                    batch_size=batch_size,\n",
    "                    verbose=0, \n",
    "                    validation_split=0.25,\n",
    "                    sample_weight=sample_weight,\n",
    "                    callbacks=[es_callback])"
   ]
  },
  {
   "cell_type": "code",
   "execution_count": 16,
   "id": "beaecce2-b92f-4ae4-9429-dae629fcc3e1",
   "metadata": {},
   "outputs": [
    {
     "name": "stdout",
     "output_type": "stream",
     "text": [
      "[[9.99560893e-01 1.17445298e-11 2.61867417e-09 4.39048657e-04]\n",
      " [1.92206653e-06 3.18419561e-02 9.68155801e-01 3.42211877e-07]\n",
      " [5.40253066e-04 1.10853110e-02 8.72004364e-07 9.88373578e-01]\n",
      " ...\n",
      " [2.10594453e-09 9.99998569e-01 9.61095907e-07 5.00424960e-07]\n",
      " [9.99538064e-01 1.37323468e-07 4.26852603e-06 4.57507733e-04]\n",
      " [4.13817929e-07 1.14141945e-02 9.88585293e-01 1.69808434e-08]]\n"
     ]
    }
   ],
   "source": [
    "# Compute class probabilities\n",
    "y_test_prop_pred = model.predict(X_test)\n",
    "print(y_test_prop_pred)"
   ]
  },
  {
   "cell_type": "code",
   "execution_count": 17,
   "id": "a42f47d4-7039-4579-9b82-e39d62691fcd",
   "metadata": {},
   "outputs": [
    {
     "name": "stdout",
     "output_type": "stream",
     "text": [
      "[[1. 0. 0. 0.]\n",
      " [0. 0. 1. 0.]\n",
      " [0. 0. 0. 1.]\n",
      " ...\n",
      " [0. 1. 0. 0.]\n",
      " [1. 0. 0. 0.]\n",
      " [0. 0. 1. 0.]]\n"
     ]
    }
   ],
   "source": [
    "# Compute the corresponding one-hot classes\n",
    "y_test_oh_pred = np.zeros_like(y_test_prop_pred)\n",
    "y_test_oh_pred[np.arange(len(y_test_prop_pred)), y_test_prop_pred.argmax(1)] = 1\n",
    "print(y_test_oh_pred)"
   ]
  },
  {
   "cell_type": "code",
   "execution_count": 18,
   "id": "d160920b-2529-4d2a-958d-e26f6c819cd6",
   "metadata": {},
   "outputs": [],
   "source": [
    "# Re-transform the classes now!\n",
    "asteroid_classes_test = label_encoder.inverse_transform(y_test).reshape(1, -1)[0]\n",
    "asteroid_classes_test_pred = label_encoder.inverse_transform(y_test_oh_pred).reshape(1, -1)[0]"
   ]
  },
  {
   "cell_type": "code",
   "execution_count": 19,
   "id": "66b37621-7868-4dad-a74d-1ef2424cf001",
   "metadata": {},
   "outputs": [
    {
     "data": {
      "image/png": "[encoded data removed]",
      "text/plain": [
       "<Figure size 432x288 with 2 Axes>"
      ]
     },
     "metadata": {},
     "output_type": "display_data"
    }
   ],
   "source": [
    "from sklearn.metrics import ConfusionMatrixDisplay, confusion_matrix\n",
    "\n",
    "# Compute the confusion matrix\n",
    "conf_mat = confusion_matrix(asteroid_classes_test,\n",
    "                            asteroid_classes_test_pred,\n",
    "                            labels=[\"C\", \"S\", \"X\", \"Other\"])\n",
    "\n",
    "disp = ConfusionMatrixDisplay(confusion_matrix=conf_mat,\n",
    "                              display_labels=[\"C\", \"S\", \"X\", \"Other\"])\n",
    "disp.plot()\n",
    "plt.show()"
   ]
  },
  {
   "cell_type": "code",
   "execution_count": 20,
   "id": "5686e26e",
   "metadata": {},
   "outputs": [
    {
     "name": "stdout",
     "output_type": "stream",
     "text": [
      "F1 Score: 0.93\n"
     ]
    }
   ],
   "source": [
    "# A combined score\n",
    "f1_score = round(sklearn.metrics.f1_score(asteroid_classes_test, asteroid_classes_test_pred, average=\"weighted\"), 3)\n",
    "print(f\"F1 Score: {f1_score}\")"
   ]
  }
 ],
 "metadata": {
  "kernelspec": {
   "display_name": "Python 3 (ipykernel)",
   "language": "python",
   "name": "python3"
  },
  "language_info": {
   "codemirror_mode": {
    "name": "ipython",
    "version": 3
   },
   "file_extension": ".py",
   "mimetype": "text/x-python",
   "name": "python",
   "nbconvert_exporter": "python",
   "pygments_lexer": "ipython3",
   "version": "3.9.7"
  }
 },
 "nbformat": 4,
 "nbformat_minor": 5
}
