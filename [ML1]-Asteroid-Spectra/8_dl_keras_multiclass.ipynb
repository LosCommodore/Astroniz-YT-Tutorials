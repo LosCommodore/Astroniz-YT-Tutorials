{
 "cells": [
  {
   "cell_type": "markdown",
   "id": "ad3452c5",
   "metadata": {},
   "source": [
    "[![Open In Colab](https://colab.research.google.com/assets/colab-badge.svg)](https://colab.research.google.com/github/ThomasAlbin/Astroniz-YT-Tutorials/blob/main/[ML1]-Asteroid-Spectra/TBD.ipynb)"
   ]
  },
  {
   "cell_type": "markdown",
   "id": "f14c9d7a",
   "metadata": {},
   "source": [
    "# Step 8 TBD"
   ]
  },
  {
   "cell_type": "code",
   "execution_count": 1,
   "id": "63474560",
   "metadata": {},
   "outputs": [],
   "source": [
    "# Import standard libraries\n",
    "import os\n",
    "\n",
    "# Import installed libraries\n",
    "import numpy as np\n",
    "import pandas as pd\n",
    "import sklearn\n",
    "\n",
    "from sklearn import preprocessing\n",
    "from sklearn import svm\n",
    "from sklearn.model_selection import GridSearchCV"
   ]
  },
  {
   "cell_type": "code",
   "execution_count": 2,
   "id": "af9f8681",
   "metadata": {},
   "outputs": [],
   "source": [
    "# Let's mount the Google Drive, where we store files and models (if applicable, otherwise work\n",
    "# locally)\n",
    "try:\n",
    "    from google.colab import drive\n",
    "    drive.mount('/gdrive')\n",
    "    core_path = \"/gdrive/MyDrive/Colab/asteroid_taxonomy/\"\n",
    "except ModuleNotFoundError:\n",
    "    core_path = \"\""
   ]
  },
  {
   "cell_type": "code",
   "execution_count": 3,
   "id": "71bc69f6",
   "metadata": {},
   "outputs": [],
   "source": [
    "# Load the level 2 asteroid data\n",
    "asteroids_df = pd.read_pickle(os.path.join(core_path, \"data/lvl2/\", \"asteroids.pkl\"))"
   ]
  },
  {
   "cell_type": "code",
   "execution_count": 4,
   "id": "62493261",
   "metadata": {},
   "outputs": [],
   "source": [
    "# Allocate the spectra to one array and the classes to another one\n",
    "asteroids_X = np.array([k[\"Reflectance_norm550nm\"].tolist() for k in asteroids_df[\"SpectrumDF\"]])\n",
    "asteroids_y_org = np.array(asteroids_df[\"Main_Group\"].to_list())"
   ]
  },
  {
   "cell_type": "code",
   "execution_count": 5,
   "id": "66b5dfa2-89d5-4a0f-8e73-544f5fd60147",
   "metadata": {},
   "outputs": [],
   "source": [
    "from sklearn.preprocessing import LabelEncoder, OneHotEncoder\n",
    "\n",
    "label_encoder = OneHotEncoder(sparse=True)\n",
    "asteroids_y = label_encoder.fit_transform(asteroids_y_org.reshape(-1,1)).toarray()"
   ]
  },
  {
   "cell_type": "code",
   "execution_count": 6,
   "id": "89fbec91-69f2-483d-acd8-325eeeb805cf",
   "metadata": {},
   "outputs": [],
   "source": [
    "#asteroids_X = (asteroids_X - np.mean(asteroids_X, axis=1).reshape(-1,1)) / np.std(asteroids_X, axis=1).reshape(-1,1)\n",
    "\n",
    "#asteroids_X = (asteroids_X-np.min(asteroids_X, axis=1).reshape(-1,1))/(np.max(asteroids_X, axis=1).reshape(-1,1)-np.min(asteroids_X, axis=1).reshape(-1,1))"
   ]
  },
  {
   "cell_type": "code",
   "execution_count": 7,
   "id": "568f218c-c1e2-48a1-a845-791da8dded4d",
   "metadata": {},
   "outputs": [
    {
     "ename": "NameError",
     "evalue": "name 'plt' is not defined",
     "output_type": "error",
     "traceback": [
      "\u001b[0;31m---------------------------------------------------------------------------\u001b[0m",
      "\u001b[0;31mNameError\u001b[0m                                 Traceback (most recent call last)",
      "\u001b[0;32m/var/folders/gc/021rhjrn20v7m9sjnfk08_fc0000gp/T/ipykernel_45860/2819985621.py\u001b[0m in \u001b[0;36m<module>\u001b[0;34m\u001b[0m\n\u001b[0;32m----> 1\u001b[0;31m \u001b[0mplt\u001b[0m\u001b[0;34m.\u001b[0m\u001b[0mplot\u001b[0m\u001b[0;34m(\u001b[0m\u001b[0masteroids_X\u001b[0m\u001b[0;34m[\u001b[0m\u001b[0;36m0\u001b[0m\u001b[0;34m]\u001b[0m\u001b[0;34m)\u001b[0m\u001b[0;34m\u001b[0m\u001b[0;34m\u001b[0m\u001b[0m\n\u001b[0m",
      "\u001b[0;31mNameError\u001b[0m: name 'plt' is not defined"
     ]
    }
   ],
   "source": [
    "#plt.plot(asteroids_X[0])"
   ]
  },
  {
   "cell_type": "code",
   "execution_count": 8,
   "id": "39ead307-7368-4991-925d-9daba407e2f5",
   "metadata": {},
   "outputs": [],
   "source": [
    "# In this example we create a single test-training split with a ratio of 0.8 / 0.2\n",
    "from sklearn.model_selection import StratifiedShuffleSplit\n",
    "sss = StratifiedShuffleSplit(n_splits=1, test_size=0.2)\n",
    "\n",
    "# Create a simple, single train / test split\n",
    "for train_index, test_index in sss.split(asteroids_X, asteroids_y):\n",
    "    \n",
    "    X_train, X_test = asteroids_X[train_index], asteroids_X[test_index]\n",
    "    y_train, y_test = asteroids_y[train_index], asteroids_y[test_index]\n",
    "\n",
    "re_class_train = np.argmax(y_train, axis=1)\n",
    "re_class_test = np.argmax(y_test, axis=1)\n",
    "\n",
    "# Compute class weightnings\n",
    "weight_dict = {}\n",
    "for ast_type in np.unique(re_class_train):\n",
    "    weight_dict[ast_type] = float(1.0 / (len(re_class_train[re_class_train == ast_type]) / (len(re_class_train))))"
   ]
  },
  {
   "cell_type": "code",
   "execution_count": 9,
   "id": "05f5ccf8-239c-4299-9103-43495c5e708b",
   "metadata": {},
   "outputs": [
    {
     "data": {
      "text/plain": [
       "{0: 3.3785488958990535, 1: 8.5, 2: 2.439635535307517, 3: 5.666666666666666}"
      ]
     },
     "execution_count": 9,
     "metadata": {},
     "output_type": "execute_result"
    }
   ],
   "source": [
    "weight_dict"
   ]
  },
  {
   "cell_type": "code",
   "execution_count": 10,
   "id": "d11ff9de-cd74-44aa-b311-7a1147822a72",
   "metadata": {},
   "outputs": [
    {
     "data": {
      "text/plain": [
       "array([[0., 0., 1., 0.],\n",
       "       [0., 0., 1., 0.],\n",
       "       [0., 0., 0., 1.],\n",
       "       ...,\n",
       "       [0., 0., 1., 0.],\n",
       "       [1., 0., 0., 0.],\n",
       "       [0., 1., 0., 0.]])"
      ]
     },
     "execution_count": 10,
     "metadata": {},
     "output_type": "execute_result"
    }
   ],
   "source": [
    "y_test"
   ]
  },
  {
   "cell_type": "code",
   "execution_count": 12,
   "id": "1415a951-37c8-403b-bd22-46249d3d7c96",
   "metadata": {
    "tags": []
   },
   "outputs": [
    {
     "name": "stdout",
     "output_type": "stream",
     "text": [
      "Model: \"model_1\"\n",
      "_________________________________________________________________\n",
      " Layer (type)                Output Shape              Param #   \n",
      "=================================================================\n",
      " input_2 (InputLayer)        [(None, 49)]              0         \n",
      "                                                                 \n",
      " dense_6 (Dense)             (None, 10)                500       \n",
      "                                                                 \n",
      " re_lu_5 (ReLU)              (None, 10)                0         \n",
      "                                                                 \n",
      " dense_7 (Dense)             (None, 4)                 44        \n",
      "                                                                 \n",
      "=================================================================\n",
      "Total params: 544\n",
      "Trainable params: 544\n",
      "Non-trainable params: 0\n",
      "_________________________________________________________________\n"
     ]
    }
   ],
   "source": [
    "import tensorflow.keras as keras\n",
    "\n",
    "n_inputs = asteroids_X.shape[1]\n",
    "\n",
    "normalizer = keras.layers.Normalization(axis=1)\n",
    "normalizer.adapt(X_train)\n",
    "\n",
    "inputs = keras.Input(shape=(n_inputs,))\n",
    "x = normalizer(inputs)\n",
    "x = keras.layers.Dense(100)(x)\n",
    "x = keras.layers.ReLU()(x)\n",
    "x = keras.layers.Dense(50)(x)\n",
    "x = keras.layers.ReLU()(x)\n",
    "x = keras.layers.Dense(10)(x)\n",
    "x = keras.layers.ReLU()(x)\n",
    "outputs = keras.layers.Dense(4, activation=\"softmax\")(x)\n",
    "\n",
    "model = keras.models.Model(inputs=inputs, outputs=outputs)\n",
    "\n",
    "model.compile(optimizer='rmsprop', loss='categorical_crossentropy')\n",
    "\n",
    "model.summary()\n",
    "\n",
    "end_epoch = 500\n",
    "batch_size = 32\n",
    "history = model.fit(X_train, y_train,\n",
    "                    epochs=end_epoch,\n",
    "                    batch_size=batch_size,\n",
    "                    verbose=0, \n",
    "                    validation_split=0.25,\n",
    "                    class_weight=weight_dict)"
   ]
  },
  {
   "cell_type": "code",
   "execution_count": null,
   "id": "a0a25651-9f1d-40e8-a005-25068ba37b15",
   "metadata": {},
   "outputs": [],
   "source": [
    "plt.plot(history.history[\"loss\"])\n",
    "plt.plot(history.history[\"val_loss\"])"
   ]
  },
  {
   "cell_type": "code",
   "execution_count": null,
   "id": "e717b55e-d0a9-4fb9-9977-d6bd8a462a28",
   "metadata": {
    "tags": []
   },
   "outputs": [],
   "source": [
    "n_inputs = asteroids_X.shape[1]\n",
    "\n",
    "normalizer = keras.layers.Normalization(axis=1)\n",
    "normalizer.adapt(X_train)\n",
    "\n",
    "inputs = keras.Input(shape=(n_inputs,))\n",
    "x = normalizer(inputs)\n",
    "x = keras.layers.Dense(100)(x)\n",
    "x = keras.layers.ReLU()(x)\n",
    "x = keras.layers.Dense(50)(x)\n",
    "x = keras.layers.ReLU()(x)\n",
    "x = keras.layers.Dense(10)(x)\n",
    "x = keras.layers.ReLU()(x)\n",
    "outputs = keras.layers.Dense(4, activation=\"softmax\")(x)\n",
    "\n",
    "model = keras.models.Model(inputs=inputs, outputs=outputs)\n",
    "\n",
    "model.compile(optimizer='rmsprop', loss='categorical_crossentropy')\n",
    "\n",
    "model.summary()\n",
    "\n",
    "end_epoch = 500\n",
    "batch_size = 32\n",
    "\n",
    "es_callback = keras.callbacks.EarlyStopping(monitor='val_loss', patience=10)\n",
    "history = model.fit(X_train, y_train,\n",
    "                    epochs=end_epoch,\n",
    "                    batch_size=batch_size,\n",
    "                    verbose=2, \n",
    "                    validation_split=0.25,\n",
    "                    class_weight=weight_dict,\n",
    "                    callbacks=[es_callback])"
   ]
  },
  {
   "cell_type": "code",
   "execution_count": null,
   "id": "beaecce2-b92f-4ae4-9429-dae629fcc3e1",
   "metadata": {},
   "outputs": [],
   "source": [
    "y_test_prop_pred = model.predict(X_test)"
   ]
  },
  {
   "cell_type": "code",
   "execution_count": null,
   "id": "a33de828-2306-48a5-bcff-5bb8c3674ffa",
   "metadata": {},
   "outputs": [],
   "source": [
    "y_int_test_pred = np.argmax(y_test_prop_pred, axis=1)"
   ]
  },
  {
   "cell_type": "code",
   "execution_count": null,
   "id": "a42f47d4-7039-4579-9b82-e39d62691fcd",
   "metadata": {},
   "outputs": [],
   "source": [
    "b = np.zeros_like(y_test_prop_pred)\n",
    "b[np.arange(len(y_test_prop_pred)), y_test_prop_pred.argmax(1)] = 1\n",
    "print(b)"
   ]
  },
  {
   "cell_type": "code",
   "execution_count": null,
   "id": "d160920b-2529-4d2a-958d-e26f6c819cd6",
   "metadata": {},
   "outputs": [],
   "source": [
    "asteroid_classes_test = label_encoder.inverse_transform(y_test).reshape(1,-1)[0]\n",
    "asteroid_classes_test_pred = label_encoder.inverse_transform(b).reshape(1,-1)[0]"
   ]
  },
  {
   "cell_type": "code",
   "execution_count": null,
   "id": "66b37621-7868-4dad-a74d-1ef2424cf001",
   "metadata": {},
   "outputs": [],
   "source": [
    "import matplotlib.pyplot as plt\n",
    "from sklearn.metrics import ConfusionMatrixDisplay\n",
    "\n",
    "from sklearn.metrics import confusion_matrix\n",
    "conf_mat = confusion_matrix(asteroid_classes_test, asteroid_classes_test_pred, labels=[\"C\", \"S\", \"X\", \"Other\"])\n",
    "\n",
    "\n",
    "# Set the dark mode and the font size and style\n",
    "plt.style.use('dark_background')\n",
    "plt.rc('font', family='serif', size=12)\n",
    "\n",
    "\n",
    "disp = ConfusionMatrixDisplay(confusion_matrix=conf_mat, display_labels=[\"C\", \"S\", \"X\", \"Other\"])\n",
    "disp.plot()\n",
    "plt.show()"
   ]
  },
  {
   "cell_type": "code",
   "execution_count": null,
   "id": "5686e26e",
   "metadata": {},
   "outputs": [],
   "source": [
    "# A combined score\n",
    "f1_score = round(sklearn.metrics.f1_score(re_class_test, y_int_test_pred, average=\"weighted\"), 3)\n",
    "print(f\"F1 Score: {f1_score}\")"
   ]
  }
 ],
 "metadata": {
  "kernelspec": {
   "display_name": "Python 3 (ipykernel)",
   "language": "python",
   "name": "python3"
  },
  "language_info": {
   "codemirror_mode": {
    "name": "ipython",
    "version": 3
   },
   "file_extension": ".py",
   "mimetype": "text/x-python",
   "name": "python",
   "nbconvert_exporter": "python",
   "pygments_lexer": "ipython3",
   "version": "3.9.7"
  }
 },
 "nbformat": 4,
 "nbformat_minor": 5
}
